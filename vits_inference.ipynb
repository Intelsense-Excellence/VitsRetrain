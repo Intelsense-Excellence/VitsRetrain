{
 "cells": [
  {
   "cell_type": "code",
   "execution_count": 8,
   "metadata": {},
   "outputs": [],
   "source": [
    "import scipy\n",
    "from IPython.display import Audio\n",
    "from transformers import VitsTokenizer, VitsModel, set_seed\n",
    "\n",
    "import pybangla\n",
    "nrml = pybangla.Normalizer()\n",
    "\n",
    "model_path = \"intelsense/vits_mms_ft_openslr\"\n",
    "tokenizer = VitsTokenizer.from_pretrained(model_path)\n",
    "model = VitsModel.from_pretrained(model_path).to(\"cuda\").eval()\n",
    "\n",
    "set_seed(456)  # make deterministic"
   ]
  },
  {
   "cell_type": "code",
   "execution_count": 9,
   "metadata": {},
   "outputs": [],
   "source": [
    "def inference(raw_text, speaker_id=1):\n",
    "    normalized_text = nrml.text_normalizer(raw_text)\n",
    "    print(normalized_text)\n",
    "    inputs = tokenizer(normalized_text, return_tensors=\"pt\")\n",
    "    outputs = model(inputs[\"input_ids\"].to(\"cuda\"), speaker_id=speaker_id)\n",
    "    waveform = outputs.waveform[0].to(\"cpu\").detach().numpy()\n",
    "    return waveform"
   ]
  },
  {
   "cell_type": "code",
   "execution_count": 10,
   "metadata": {},
   "outputs": [
    {
     "data": {
      "text/plain": [
       "16"
      ]
     },
     "execution_count": 10,
     "metadata": {},
     "output_type": "execute_result"
    }
   ],
   "source": [
    "# get all speakers\n",
    "model.config.num_speakers"
   ]
  },
  {
   "cell_type": "code",
   "execution_count": 13,
   "metadata": {},
   "outputs": [
    {
     "name": "stdout",
     "output_type": "stream",
     "text": [
      "উনিশশো ছিয়ানব্বই সালের ছয় সেপ্টেম্বর রণ ভ্রমণ পরিকল্পনা করছি দুই হাজার ত্রিশ সালের ছয় সেপ্টেম্বর\n",
      "উপসচিব পদে পদোন্নতির ক্ষেত্রে প্রশাসন ক্যাডারের কর্মকর্তাদের জন্য পঞ্চাশ শতাংশ ও অন্য ক্যাডারের জন্য পঞ্চাশ শতাংশ করা বিষয়ে জনপ্রশাসন সংস্কার কমিশনের সুপারিশ নিয়ে প্রশাসন ক্যাডারের কর্মকর্তাদের মধ্যে তীব্র আপত্তি উঠেছে।\n",
      "ইজতেমা মাঠে হামলা ও সংঘর্ষে চারজন নিহত হয়েছেন জানিয়ে স্বরাষ্ট্র উপদেষ্টা লেফটেন্যান্ট জেনারেল অব . জাহাঙ্গীর আলম চৌধুরী বলেছেন, হত্যাকাণ্ডের সঙ্গে যারা জড়িত, তাদের ছাড় দেওয়ার কোনো অবকাশ নেই।\n",
      "অন্যদিকে শিক্ষা ও স্বাস্থ্যকে ক্যাডারে অন্তর্ভুক্ত না রেখে আলাদা কমিশনে রাখার যে সুপারিশ করা হচ্ছে, তা নিয়ে শিক্ষা ক্যাডারের কর্মকর্তারাও আপত্তি জানাচ্ছেন।\n",
      "উদ্ভূত পরিস্থিতিতে আজ স্বরাষ্ট্র মন্ত্রণালয়ে দুই পক্ষের সঙ্গে আলাদাভাবে বৈঠক করেন স্বরাষ্ট্র উপদেষ্টা।\n",
      "রংপুর অফিস, সম্পা ভিউ নিচতলা বাড়ি ছাপ্পান্ন / এক রোড এক আখতার সরণি, মুন্সিপাড়া, রংপুর, ফোন জিরো ওয়ান সেভেন ডাবল ওয়ান জিরো সেভেন জিরো সিক্স সেভেন ফোর\n",
      "বছরের শেষে ইন্টারনেট মুভি ডেটাবেজ আইএমডিবি ভারতের সবচেয়ে জনপ্রিয় দশ তারকার তালিকা করেছে।\n",
      "অন্যদিকে বাহুবলী তারকা কাল্কি দুই হাজার আট শত আটানব্বই এডি সিনেমা দিয়ে এ বছর আলোচনায় ছিলেন।\n",
      "উনিশশো একানব্বই সালে ব্রিটিশ অভিনেতা মাইকেল উইলিয়ামকে বিয়ে করেন অভিনেত্রী জুডি ডেঞ্চ।\n"
     ]
    }
   ],
   "source": [
    "texts = [\"১৯৯৬ সালের ৬ সেপ্টেম্বর রণ ভ্রমণ পরিকল্পনা করছি ২০৩০ সালের ৬ সেপ্টেম্বর\",\n",
    "\"উপসচিব পদে পদোন্নতির ক্ষেত্রে প্রশাসন ক্যাডারের কর্মকর্তাদের জন্য ৫০ শতাংশ ও অন্য ক্যাডারের জন্য ৫০ শতাংশ করা বিষয়ে জনপ্রশাসন সংস্কার কমিশনের সুপারিশ নিয়ে প্রশাসন ক্যাডারের কর্মকর্তাদের মধ্যে তীব্র আপত্তি উঠেছে।\",\n",
    "\"ইজতেমা মাঠে হামলা ও সংঘর্ষে চারজন নিহত হয়েছেন জানিয়ে স্বরাষ্ট্র উপদেষ্টা লেফটেন্যান্ট জেনারেল (অব.) জাহাঙ্গীর আলম চৌধুরী বলেছেন, হত্যাকাণ্ডের সঙ্গে যারা জড়িত, তাদের ছাড় দেওয়ার কোনো অবকাশ নেই। \",\n",
    "\"অন্যদিকে শিক্ষা ও স্বাস্থ্যকে ক্যাডারে অন্তর্ভুক্ত না রেখে আলাদা কমিশনে রাখার যে সুপারিশ করা হচ্ছে, তা নিয়ে শিক্ষা ক্যাডারের কর্মকর্তারাও আপত্তি জানাচ্ছেন।\",\n",
    "\"উদ্ভূত পরিস্থিতিতে আজ স্বরাষ্ট্র মন্ত্রণালয়ে দুই পক্ষের সঙ্গে আলাদাভাবে বৈঠক করেন স্বরাষ্ট্র উপদেষ্টা।\",\n",
    "\"রংপুর অফিস, সম্পা ভিউ (নিচতলা), বাড়ি: ৫৬/১, রোড: ০১, আখতার সরণি, মুন্সিপাড়া, রংপুর, ফোন: ০১৭১১০৭০৬৭৪\",\n",
    "\"বছরের শেষে ইন্টারনেট মুভি ডেটাবেজ (আইএমডিবি) ভারতের সবচেয়ে জনপ্রিয় ১০ তারকার তালিকা করেছে।\",\n",
    "\"অন্যদিকে বাহুবলী তারকা ‘কাল্কি ২৮৯৮ এডি’ সিনেমা দিয়ে এ বছর আলোচনায় ছিলেন।\",\n",
    "\"১৯৯১ সালে ব্রিটিশ অভিনেতা মাইকেল উইলিয়ামকে বিয়ে করেন অভিনেত্রী জুডি ডেঞ্চ।\"]\n",
    "\n",
    "for id, text in enumerate(texts):\n",
    "    waveform = inference(text, speaker_id=0)\n",
    "    scipy.io.wavfile.write(f\"audio_samples/openslr_100_{id}.mp3\", rate=model.config.sampling_rate, data=waveform)\n",
    "\n",
    "# waveform = inference(texts[0], speaker_id=0)\n",
    "# scipy.io.wavfile.write(f\"audio_samples/openslr_100_0\", rate=model.config.sampling_rate, data=waveform)\n",
    "# Audio(waveform, rate=model.config.sampling_rate)"
   ]
  }
 ],
 "metadata": {
  "kernelspec": {
   "display_name": ".venv",
   "language": "python",
   "name": "python3"
  },
  "language_info": {
   "codemirror_mode": {
    "name": "ipython",
    "version": 3
   },
   "file_extension": ".py",
   "mimetype": "text/x-python",
   "name": "python",
   "nbconvert_exporter": "python",
   "pygments_lexer": "ipython3",
   "version": "3.12.3"
  }
 },
 "nbformat": 4,
 "nbformat_minor": 2
}
